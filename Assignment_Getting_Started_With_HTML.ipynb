{
  "nbformat": 4,
  "nbformat_minor": 0,
  "metadata": {
    "colab": {
      "provenance": []
    },
    "kernelspec": {
      "name": "python3",
      "display_name": "Python 3"
    },
    "language_info": {
      "name": "python"
    }
  },
  "cells": [
    {
      "cell_type": "markdown",
      "source": [
        "# Getting Started With HTML"
      ],
      "metadata": {
        "id": "bhW_il1okBQ_"
      }
    },
    {
      "cell_type": "code",
      "source": [
        "# 1. Write a simple program in HTML that displays the heading \"HTML defines the content and structure of your website” on the web browser?\n",
        "<!DOCTYPE html>\n",
        "<html lang=\"en\">\n",
        "<head>\n",
        "    <meta charset=\"UTF-8\">\n",
        "    <meta name=\"viewport\" content=\"width=device-width, initial-scale=1.0\">\n",
        "    <title>Document</title>\n",
        "</head>\n",
        "<body>\n",
        "\n",
        "    <h2>HTML defines the content and structure of your website.</h2>\n",
        "\n",
        "</body>\n",
        "</html>"
      ],
      "metadata": {
        "id": "tux1Wa7dlgXI"
      },
      "execution_count": null,
      "outputs": []
    },
    {
      "cell_type": "markdown",
      "source": [
        "2. Explain the purpose of comments in HTML and provide an example of how to use comments in an HTML document?\n",
        "   - Comments in HTML\n",
        "     - Used for non-executing code notes.\n",
        "     - Aid in code documentation and debugging.\n",
        "     - Single line: `<!-- Comment -->`\n",
        "     - Multi-line: `<!-- Multi-line comment -->`"
      ],
      "metadata": {
        "id": "p5EruvuDl8G1"
      }
    },
    {
      "cell_type": "code",
      "source": [
        "# 3. Write an HTML program that includes a heading, a paragraph of text, a horizontal line, and a line break. Arrange these elements to create a simple web page layout?\n",
        "<!DOCTYPE html>\n",
        "<html lang=\"en\">\n",
        "<head>\n",
        "    <meta charset=\"UTF-8\">\n",
        "    <meta name=\"viewport\" content=\"width=device-width, initial-scale=1.0\">\n",
        "    <title>Document</title>\n",
        "</head>\n",
        "<body>\n",
        "\n",
        "    <h1>The Moon Landing</h1>\n",
        "    <h3>The historic event captivated the world—and helped people look to the future.</h3>\n",
        "    <p>On July 20, 1969, millions of people gathered around their televisions to watch two U.S.\n",
        "        astronauts do something no one had ever done before. Wearing bulky space suits and backpacks\n",
        "        of oxygen to breathe, Neil Armstrong and Edwin “Buzz” Aldrin became the first human beings to\n",
        "        walk on the moon.<br>After the two stepped onto the lunar surface, Armstrong proclaimed these\n",
        "        famous words: “That's one small step for a man, one giant leap for mankind.\"</p>\n",
        "        <hr>\n",
        "</body>\n",
        "</html>"
      ],
      "metadata": {
        "id": "P6cXMTSpoWvY"
      },
      "execution_count": null,
      "outputs": []
    },
    {
      "cell_type": "markdown",
      "source": [
        "4. Write a short note on Tag and element with an example?\n",
        "   - Tags define structure and layout of web pages. Paired or self-closing tags provide instructions to browsers. Elements consist of start tag, content, and end tag.\n",
        "     - Heading (`<h1>` to `<h6>`): Titles or subtitles, important for SEO.\n",
        "     - Paragraph (`<p>`): Block of text with automatic spacing.\n",
        "     - Horizontal Rule (`<hr>`): Thematic break or separator.\n",
        "     - Line Break (`<br>`): Creates line break within text.\n",
        "     - Span (`<span>`): Inline container for text formatting.\n",
        "     - For example:-\n",
        "       `<h1>This is the Heading</h1>`, `<p>This is a paragraph</p>` etc.\n",
        "5. What is the DOCTYPE Declaration in HTML?\n",
        "   - Begins with `<!DOCTYPE html>`, followed by `<html>`, `<head>`, and `<body>` tags.\n",
        "   - `<html>` is the root element, `<head>` contains meta-information, and `<body>` displays content. `<!DOCTYPE html>` declares HTML5 document type.\n",
        "   - Ensuring proper tag closure avoids rendering issues."
      ],
      "metadata": {
        "id": "wDEfZW6QowP5"
      }
    }
  ]
}